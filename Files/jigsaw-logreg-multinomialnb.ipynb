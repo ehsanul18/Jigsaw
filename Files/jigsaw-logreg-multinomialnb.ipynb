{
 "cells": [
  {
   "cell_type": "markdown",
   "id": "opening-affair",
   "metadata": {
    "papermill": {
     "duration": 0.021606,
     "end_time": "2021-06-23T07:48:20.794200",
     "exception": false,
     "start_time": "2021-06-23T07:48:20.772594",
     "status": "completed"
    },
    "tags": []
   },
   "source": [
    "# Imported the necessary libraries"
   ]
  },
  {
   "cell_type": "code",
   "execution_count": 1,
   "id": "loaded-bathroom",
   "metadata": {
    "_cell_guid": "b1076dfc-b9ad-4769-8c92-a6c4dae69d19",
    "_uuid": "8f2839f25d086af736a60e9eeb907d3b93b6e0e5",
    "execution": {
     "iopub.execute_input": "2021-06-23T07:48:20.839572Z",
     "iopub.status.busy": "2021-06-23T07:48:20.838673Z",
     "iopub.status.idle": "2021-06-23T07:48:20.845657Z",
     "shell.execute_reply": "2021-06-23T07:48:20.846123Z",
     "shell.execute_reply.started": "2021-06-23T07:15:08.694833Z"
    },
    "papermill": {
     "duration": 0.035868,
     "end_time": "2021-06-23T07:48:20.846450",
     "exception": false,
     "start_time": "2021-06-23T07:48:20.810582",
     "status": "completed"
    },
    "tags": []
   },
   "outputs": [
    {
     "name": "stdout",
     "output_type": "stream",
     "text": [
      "/kaggle/input/jigsaw-unintended-bias-in-toxicity-classification/sample_submission.csv\n",
      "/kaggle/input/jigsaw-unintended-bias-in-toxicity-classification/all_data.csv\n",
      "/kaggle/input/jigsaw-unintended-bias-in-toxicity-classification/test_public_expanded.csv\n",
      "/kaggle/input/jigsaw-unintended-bias-in-toxicity-classification/test_private_expanded.csv\n",
      "/kaggle/input/jigsaw-unintended-bias-in-toxicity-classification/toxicity_individual_annotations.csv\n",
      "/kaggle/input/jigsaw-unintended-bias-in-toxicity-classification/train.csv\n",
      "/kaggle/input/jigsaw-unintended-bias-in-toxicity-classification/identity_individual_annotations.csv\n",
      "/kaggle/input/jigsaw-unintended-bias-in-toxicity-classification/test.csv\n"
     ]
    }
   ],
   "source": [
    "import os\n",
    "for dirname, _, filenames in os.walk('/kaggle/input'):\n",
    "    for filename in filenames:\n",
    "        print(os.path.join(dirname, filename))\n"
   ]
  },
  {
   "cell_type": "code",
   "execution_count": 2,
   "id": "abandoned-times",
   "metadata": {
    "execution": {
     "iopub.execute_input": "2021-06-23T07:48:20.887676Z",
     "iopub.status.busy": "2021-06-23T07:48:20.886987Z",
     "iopub.status.idle": "2021-06-23T07:48:22.668614Z",
     "shell.execute_reply": "2021-06-23T07:48:22.667973Z",
     "shell.execute_reply.started": "2021-06-23T07:15:08.710334Z"
    },
    "papermill": {
     "duration": 1.805686,
     "end_time": "2021-06-23T07:48:22.668769",
     "exception": false,
     "start_time": "2021-06-23T07:48:20.863083",
     "status": "completed"
    },
    "tags": []
   },
   "outputs": [],
   "source": [
    "import pandas as pd\n",
    "import numpy as np\n",
    "import matplotlib.pyplot as plt\n",
    "import seaborn as sns\n",
    "%matplotlib inline\n",
    "\n",
    "from sklearn.feature_extraction.text import TfidfVectorizer\n",
    "import nltk\n",
    "from nltk.corpus import stopwords\n",
    "from nltk.stem import WordNetLemmatizer\n",
    "import string\n",
    "\n",
    "from sklearn.model_selection import train_test_split\n",
    "from sklearn.linear_model import LogisticRegression\n",
    "from sklearn.naive_bayes import MultinomialNB\n",
    "\n",
    "from sklearn.metrics import roc_curve, roc_auc_score, classification_report"
   ]
  },
  {
   "cell_type": "markdown",
   "id": "ethical-bachelor",
   "metadata": {
    "papermill": {
     "duration": 0.015827,
     "end_time": "2021-06-23T07:48:22.701177",
     "exception": false,
     "start_time": "2021-06-23T07:48:22.685350",
     "status": "completed"
    },
    "tags": []
   },
   "source": [
    "# Creation of the training dataframe"
   ]
  },
  {
   "cell_type": "code",
   "execution_count": 3,
   "id": "genuine-scanner",
   "metadata": {
    "execution": {
     "iopub.execute_input": "2021-06-23T07:48:22.741002Z",
     "iopub.status.busy": "2021-06-23T07:48:22.740108Z",
     "iopub.status.idle": "2021-06-23T07:48:42.675776Z",
     "shell.execute_reply": "2021-06-23T07:48:42.675178Z",
     "shell.execute_reply.started": "2021-06-23T07:15:10.592496Z"
    },
    "papermill": {
     "duration": 19.958386,
     "end_time": "2021-06-23T07:48:42.675929",
     "exception": false,
     "start_time": "2021-06-23T07:48:22.717543",
     "status": "completed"
    },
    "tags": []
   },
   "outputs": [],
   "source": [
    "train_df = pd.read_csv('../input/jigsaw-unintended-bias-in-toxicity-classification/train.csv', usecols=['target', 'comment_text'])"
   ]
  },
  {
   "cell_type": "markdown",
   "id": "tender-cincinnati",
   "metadata": {
    "papermill": {
     "duration": 0.016347,
     "end_time": "2021-06-23T07:48:42.708992",
     "exception": false,
     "start_time": "2021-06-23T07:48:42.692645",
     "status": "completed"
    },
    "tags": []
   },
   "source": [
    "Converting the target to 1 or 0"
   ]
  },
  {
   "cell_type": "code",
   "execution_count": 4,
   "id": "expensive-trash",
   "metadata": {
    "execution": {
     "iopub.execute_input": "2021-06-23T07:48:42.744812Z",
     "iopub.status.busy": "2021-06-23T07:48:42.744052Z",
     "iopub.status.idle": "2021-06-23T07:48:42.895952Z",
     "shell.execute_reply": "2021-06-23T07:48:42.896502Z",
     "shell.execute_reply.started": "2021-06-23T07:15:28.632748Z"
    },
    "papermill": {
     "duration": 0.17148,
     "end_time": "2021-06-23T07:48:42.896669",
     "exception": false,
     "start_time": "2021-06-23T07:48:42.725189",
     "status": "completed"
    },
    "tags": []
   },
   "outputs": [],
   "source": [
    "train_df['target_class'] = np.where(train_df['target'] >= 0.5, 1, 0)"
   ]
  },
  {
   "cell_type": "markdown",
   "id": "whole-orchestra",
   "metadata": {
    "papermill": {
     "duration": 0.015793,
     "end_time": "2021-06-23T07:48:42.928964",
     "exception": false,
     "start_time": "2021-06-23T07:48:42.913171",
     "status": "completed"
    },
    "tags": []
   },
   "source": [
    "Visualization of the target class"
   ]
  },
  {
   "cell_type": "code",
   "execution_count": 5,
   "id": "offshore-nurse",
   "metadata": {
    "execution": {
     "iopub.execute_input": "2021-06-23T07:48:42.968134Z",
     "iopub.status.busy": "2021-06-23T07:48:42.967404Z",
     "iopub.status.idle": "2021-06-23T07:48:43.297711Z",
     "shell.execute_reply": "2021-06-23T07:48:43.296971Z",
     "shell.execute_reply.started": "2021-06-23T07:15:28.682663Z"
    },
    "papermill": {
     "duration": 0.352355,
     "end_time": "2021-06-23T07:48:43.297864",
     "exception": false,
     "start_time": "2021-06-23T07:48:42.945509",
     "status": "completed"
    },
    "tags": []
   },
   "outputs": [
    {
     "data": {
      "image/png": "[encoded data removed]",
      "text/plain": [
       "<Figure size 432x288 with 1 Axes>"
      ]
     },
     "metadata": {
      "needs_background": "light"
     },
     "output_type": "display_data"
    }
   ],
   "source": [
    "sns.countplot(data = train_df, x = 'target_class')\n",
    "plt.xlabel('Target Class')\n",
    "plt.ylabel('Frequency')\n",
    "plt.title('Frequency of Target Class')\n",
    "plt.show() "
   ]
  },
  {
   "cell_type": "markdown",
   "id": "textile-herald",
   "metadata": {
    "papermill": {
     "duration": 0.022596,
     "end_time": "2021-06-23T07:48:43.341066",
     "exception": false,
     "start_time": "2021-06-23T07:48:43.318470",
     "status": "completed"
    },
    "tags": []
   },
   "source": [
    "# Cleaning of the text"
   ]
  },
  {
   "cell_type": "code",
   "execution_count": 6,
   "id": "differential-timothy",
   "metadata": {
    "execution": {
     "iopub.execute_input": "2021-06-23T07:48:43.447058Z",
     "iopub.status.busy": "2021-06-23T07:48:43.437399Z",
     "iopub.status.idle": "2021-06-23T08:01:44.363690Z",
     "shell.execute_reply": "2021-06-23T08:01:44.361585Z",
     "shell.execute_reply.started": "2021-06-23T07:15:29.003113Z"
    },
    "papermill": {
     "duration": 781.001688,
     "end_time": "2021-06-23T08:01:44.364312",
     "exception": false,
     "start_time": "2021-06-23T07:48:43.362624",
     "status": "completed"
    },
    "tags": []
   },
   "outputs": [],
   "source": [
    "train_clean = train_df\n",
    "\n",
    "lemmatizer = WordNetLemmatizer()\n",
    "\n",
    "def clean(sentence):\n",
    "    sentence = sentence.replace('[0-9]','')\n",
    "    sentence = sentence.lower()\n",
    "    remove_list = stopwords.words(\"english\")\n",
    "    translator = str.maketrans(string.punctuation, ' '*len(string.punctuation)) #map punctuation to space\n",
    "    sentence = sentence.translate(translator)\n",
    "    word_list = sentence.split()\n",
    "    return ' '.join([lemmatizer.lemmatize(i) for i in word_list if i not in remove_list])\n",
    "    \n",
    "# cleaning\n",
    "\n",
    "train_clean['comment_text_clean'] = train_clean['comment_text'].apply(lambda sentence : clean(sentence))     "
   ]
  },
  {
   "cell_type": "markdown",
   "id": "intended-documentary",
   "metadata": {
    "papermill": {
     "duration": 0.017383,
     "end_time": "2021-06-23T08:01:44.416352",
     "exception": false,
     "start_time": "2021-06-23T08:01:44.398969",
     "status": "completed"
    },
    "tags": []
   },
   "source": [
    "# Applying TfidfVectorizer "
   ]
  },
  {
   "cell_type": "code",
   "execution_count": 7,
   "id": "right-lindsay",
   "metadata": {
    "execution": {
     "iopub.execute_input": "2021-06-23T08:01:44.462112Z",
     "iopub.status.busy": "2021-06-23T08:01:44.461430Z",
     "iopub.status.idle": "2021-06-23T08:04:37.840796Z",
     "shell.execute_reply": "2021-06-23T08:04:37.841403Z",
     "shell.execute_reply.started": "2021-06-23T07:27:29.613398Z"
    },
    "papermill": {
     "duration": 173.407515,
     "end_time": "2021-06-23T08:04:37.841619",
     "exception": false,
     "start_time": "2021-06-23T08:01:44.434104",
     "status": "completed"
    },
    "tags": []
   },
   "outputs": [
    {
     "data": {
      "text/plain": [
       "<270194x16117220 sparse matrix of type '<class 'numpy.float64'>'\n",
       "\twith 26923326 stored elements in Compressed Sparse Row format>"
      ]
     },
     "execution_count": 7,
     "metadata": {},
     "output_type": "execute_result"
    }
   ],
   "source": [
    "#parameters\n",
    "toxicity_threshold = 0.2\n",
    "n_gram = (1, 4)\n",
    "\n",
    "#processing\n",
    "texts = train_clean[train_clean['target'] > toxicity_threshold]['comment_text_clean']\n",
    "tfidf = TfidfVectorizer(ngram_range=n_gram)\n",
    "tfidf.fit_transform(texts)"
   ]
  },
  {
   "cell_type": "markdown",
   "id": "athletic-christianity",
   "metadata": {
    "papermill": {
     "duration": 0.017291,
     "end_time": "2021-06-23T08:04:37.877167",
     "exception": false,
     "start_time": "2021-06-23T08:04:37.859876",
     "status": "completed"
    },
    "tags": []
   },
   "source": [
    "# Creation of train_test_split of training data"
   ]
  },
  {
   "cell_type": "code",
   "execution_count": 8,
   "id": "educational-dependence",
   "metadata": {
    "execution": {
     "iopub.execute_input": "2021-06-23T08:04:37.970564Z",
     "iopub.status.busy": "2021-06-23T08:04:37.954914Z",
     "iopub.status.idle": "2021-06-23T08:09:36.559594Z",
     "shell.execute_reply": "2021-06-23T08:09:36.558920Z",
     "shell.execute_reply.started": "2021-06-23T07:30:14.671889Z"
    },
    "papermill": {
     "duration": 298.663208,
     "end_time": "2021-06-23T08:09:36.559774",
     "exception": false,
     "start_time": "2021-06-23T08:04:37.896566",
     "status": "completed"
    },
    "tags": []
   },
   "outputs": [],
   "source": [
    "X = tfidf.transform(train_clean['comment_text_clean'])\n",
    "y = train_clean['target_class']\n",
    "X_train, X_test, y_train, y_test = train_test_split(X, y, test_size = 0.1, random_state = 42)"
   ]
  },
  {
   "cell_type": "markdown",
   "id": "varying-updating",
   "metadata": {
    "papermill": {
     "duration": 0.017329,
     "end_time": "2021-06-23T08:09:36.595044",
     "exception": false,
     "start_time": "2021-06-23T08:09:36.577715",
     "status": "completed"
    },
    "tags": []
   },
   "source": [
    "# Applying Multinomial Naive Bayes "
   ]
  },
  {
   "cell_type": "code",
   "execution_count": 9,
   "id": "lightweight-laundry",
   "metadata": {
    "execution": {
     "iopub.execute_input": "2021-06-23T08:09:36.640560Z",
     "iopub.status.busy": "2021-06-23T08:09:36.639177Z",
     "iopub.status.idle": "2021-06-23T08:09:41.794120Z",
     "shell.execute_reply": "2021-06-23T08:09:41.794981Z",
     "shell.execute_reply.started": "2021-06-23T07:35:07.224417Z"
    },
    "papermill": {
     "duration": 5.181509,
     "end_time": "2021-06-23T08:09:41.795241",
     "exception": false,
     "start_time": "2021-06-23T08:09:36.613732",
     "status": "completed"
    },
    "tags": []
   },
   "outputs": [
    {
     "name": "stdout",
     "output_type": "stream",
     "text": [
      "AUC: 0.930\n"
     ]
    },
    {
     "data": {
      "image/png": "[encoded data removed]",
      "text/plain": [
       "<Figure size 432x288 with 1 Axes>"
      ]
     },
     "metadata": {
      "needs_background": "light"
     },
     "output_type": "display_data"
    },
    {
     "data": {
      "text/plain": [
       "'              precision    recall  f1-score   support\\n\\n           0       0.92      1.00      0.96    166032\\n           1       1.00      0.00      0.01     14456\\n\\n    accuracy                           0.92    180488\\n   macro avg       0.96      0.50      0.48    180488\\nweighted avg       0.93      0.92      0.88    180488\\n'"
      ]
     },
     "execution_count": 9,
     "metadata": {},
     "output_type": "execute_result"
    }
   ],
   "source": [
    "naive = MultinomialNB()\n",
    "naive.fit(X_train,y_train)\n",
    "\n",
    "predictions = naive.predict_proba(X_test)\n",
    "predictions = pd.DataFrame(predictions)\n",
    "\n",
    "fpr, tpr, thresholds = roc_curve(y_test, predictions[1])\n",
    "auc = roc_auc_score(y_test, predictions[1])\n",
    "print('AUC: %.3f' % auc)\n",
    "\n",
    "plt.plot([0, 1], [0, 1], linestyle='--')\n",
    "plt.plot(fpr, tpr, marker='.')\n",
    "plt.show()\n",
    "\n",
    "classification_report(y_test, predictions[1]>0.5)"
   ]
  },
  {
   "cell_type": "markdown",
   "id": "selected-sherman",
   "metadata": {
    "papermill": {
     "duration": 0.020075,
     "end_time": "2021-06-23T08:09:41.839021",
     "exception": false,
     "start_time": "2021-06-23T08:09:41.818946",
     "status": "completed"
    },
    "tags": []
   },
   "source": [
    "# Applying Logisitic Regression"
   ]
  },
  {
   "cell_type": "code",
   "execution_count": 10,
   "id": "ultimate-hampshire",
   "metadata": {
    "execution": {
     "iopub.execute_input": "2021-06-23T08:09:41.882182Z",
     "iopub.status.busy": "2021-06-23T08:09:41.881221Z",
     "iopub.status.idle": "2021-06-23T08:18:45.650439Z",
     "shell.execute_reply": "2021-06-23T08:18:45.649727Z",
     "shell.execute_reply.started": "2021-06-23T07:35:12.153494Z"
    },
    "papermill": {
     "duration": 543.791615,
     "end_time": "2021-06-23T08:18:45.650597",
     "exception": false,
     "start_time": "2021-06-23T08:09:41.858982",
     "status": "completed"
    },
    "tags": []
   },
   "outputs": [
    {
     "name": "stderr",
     "output_type": "stream",
     "text": [
      "/opt/conda/lib/python3.7/site-packages/sklearn/linear_model/_logistic.py:765: ConvergenceWarning: lbfgs failed to converge (status=1):\n",
      "STOP: TOTAL NO. of ITERATIONS REACHED LIMIT.\n",
      "\n",
      "Increase the number of iterations (max_iter) or scale the data as shown in:\n",
      "    https://scikit-learn.org/stable/modules/preprocessing.html\n",
      "Please also refer to the documentation for alternative solver options:\n",
      "    https://scikit-learn.org/stable/modules/linear_model.html#logistic-regression\n",
      "  extra_warning_msg=_LOGISTIC_SOLVER_CONVERGENCE_MSG)\n"
     ]
    },
    {
     "name": "stdout",
     "output_type": "stream",
     "text": [
      "AUC: 0.949\n"
     ]
    },
    {
     "data": {
      "image/png": "[encoded data removed]",
      "text/plain": [
       "<Figure size 432x288 with 1 Axes>"
      ]
     },
     "metadata": {
      "needs_background": "light"
     },
     "output_type": "display_data"
    },
    {
     "data": {
      "text/plain": [
       "'              precision    recall  f1-score   support\\n\\n           0       0.95      0.99      0.97    166032\\n           1       0.81      0.34      0.48     14456\\n\\n    accuracy                           0.94    180488\\n   macro avg       0.88      0.66      0.72    180488\\nweighted avg       0.93      0.94      0.93    180488\\n'"
      ]
     },
     "execution_count": 10,
     "metadata": {},
     "output_type": "execute_result"
    }
   ],
   "source": [
    "logreg = LogisticRegression(C=2)\n",
    "logreg.fit(X_train, y_train)\n",
    "predictions = logreg.predict_proba(X_test)\n",
    "predictions = pd.DataFrame(predictions)\n",
    "\n",
    "fpr, tpr, thresholds = roc_curve(y_test, predictions[1])\n",
    "auc = roc_auc_score(y_test, predictions[1])\n",
    "print('AUC: %.3f' % auc)\n",
    "\n",
    "plt.plot([0, 1], [0, 1], linestyle='--')\n",
    "plt.plot(fpr, tpr, marker='.')\n",
    "plt.show()\n",
    "\n",
    "classification_report(y_test, predictions[1] > 0.5)"
   ]
  },
  {
   "cell_type": "markdown",
   "id": "dedicated-punch",
   "metadata": {
    "papermill": {
     "duration": 0.020635,
     "end_time": "2021-06-23T08:18:45.692750",
     "exception": false,
     "start_time": "2021-06-23T08:18:45.672115",
     "status": "completed"
    },
    "tags": []
   },
   "source": [
    "# Creation of the test dataframe and cleaning the text"
   ]
  },
  {
   "cell_type": "code",
   "execution_count": 11,
   "id": "automatic-soccer",
   "metadata": {
    "execution": {
     "iopub.execute_input": "2021-06-23T08:18:45.740893Z",
     "iopub.status.busy": "2021-06-23T08:18:45.740034Z",
     "iopub.status.idle": "2021-06-23T08:19:29.055497Z",
     "shell.execute_reply": "2021-06-23T08:19:29.054900Z",
     "shell.execute_reply.started": "2021-06-23T07:43:59.349474Z"
    },
    "papermill": {
     "duration": 43.341581,
     "end_time": "2021-06-23T08:19:29.055667",
     "exception": false,
     "start_time": "2021-06-23T08:18:45.714086",
     "status": "completed"
    },
    "tags": []
   },
   "outputs": [],
   "source": [
    "test = pd.read_csv('../input/jigsaw-unintended-bias-in-toxicity-classification/test.csv')\n",
    "\n",
    "#cleaning\n",
    "\n",
    "test['comment_text_clean'] = test['comment_text'].apply(lambda sentence : clean(sentence)) ### to lower case"
   ]
  },
  {
   "cell_type": "markdown",
   "id": "featured-colonial",
   "metadata": {
    "papermill": {
     "duration": 0.021341,
     "end_time": "2021-06-23T08:19:29.098790",
     "exception": false,
     "start_time": "2021-06-23T08:19:29.077449",
     "status": "completed"
    },
    "tags": []
   },
   "source": [
    "# Prediction and creating the submission file"
   ]
  },
  {
   "cell_type": "code",
   "execution_count": 12,
   "id": "verified-packet",
   "metadata": {
    "execution": {
     "iopub.execute_input": "2021-06-23T08:19:29.186030Z",
     "iopub.status.busy": "2021-06-23T08:19:29.175633Z",
     "iopub.status.idle": "2021-06-23T08:19:45.825751Z",
     "shell.execute_reply": "2021-06-23T08:19:45.824877Z",
     "shell.execute_reply.started": "2021-06-23T07:44:38.920465Z"
    },
    "papermill": {
     "duration": 16.705843,
     "end_time": "2021-06-23T08:19:45.825906",
     "exception": false,
     "start_time": "2021-06-23T08:19:29.120063",
     "status": "completed"
    },
    "tags": []
   },
   "outputs": [],
   "source": [
    "test = tfidf.transform(test['comment_text_clean'])\n",
    "submission =  logreg.predict_proba(test)\n",
    "submission = pd.DataFrame(submission)\n",
    "my_submission = pd.read_csv('../input/jigsaw-unintended-bias-in-toxicity-classification/sample_submission.csv')\n",
    "my_submission = pd.merge(submission, my_submission, left_index=True, right_index=True)\n",
    "my_submission = my_submission[['id', 1]].rename(columns={1 : 'prediction'})\n",
    "my_submission.to_csv('submission.csv', index=False)"
   ]
  }
 ],
 "metadata": {
  "kernelspec": {
   "display_name": "Python 3",
   "language": "python",
   "name": "python3"
  },
  "language_info": {
   "codemirror_mode": {
    "name": "ipython",
    "version": 3
   },
   "file_extension": ".py",
   "mimetype": "text/x-python",
   "name": "python",
   "nbconvert_exporter": "python",
   "pygments_lexer": "ipython3",
   "version": "3.7.10"
  },
  "papermill": {
   "default_parameters": {},
   "duration": 1896.344684,
   "end_time": "2021-06-23T08:19:48.558146",
   "environment_variables": {},
   "exception": null,
   "input_path": "__notebook__.ipynb",
   "output_path": "__notebook__.ipynb",
   "parameters": {},
   "start_time": "2021-06-23T07:48:12.213462",
   "version": "2.3.3"
  }
 },
 "nbformat": 4,
 "nbformat_minor": 5
}
